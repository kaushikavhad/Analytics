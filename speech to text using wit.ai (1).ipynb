{
 "cells": [
  {
   "cell_type": "code",
   "execution_count": 1,
   "metadata": {},
   "outputs": [],
   "source": [
    "import pyaudio\n",
    "import wave\n",
    "\n",
    "\n",
    "def record_audio(RECORD_SECONDS, WAVE_OUTPUT_FILENAME):\n",
    "    #--------- SETTING PARAMS FOR OUR AUDIO FILE ------------#\n",
    "    FORMAT = pyaudio.paInt16    # format of wave\n",
    "    CHANNELS = 2                # no. of audio channels\n",
    "    RATE = 44100                # frame rate\n",
    "    CHUNK = 1024                # frames per audio sample\n",
    "    #--------------------------------------------------------#\n",
    "     \n",
    "    # creating PyAudio object\n",
    "    audio = pyaudio.PyAudio()\n",
    "     \n",
    "    # open a new stream for microphone\n",
    "    # It creates a PortAudio Stream Wrapper class object\n",
    "    stream = audio.open(format=FORMAT,channels=CHANNELS,\n",
    "                        rate=RATE, input=True,\n",
    "                        frames_per_buffer=CHUNK)\n",
    "\n",
    "\n",
    "    #----------------- start of recording -------------------#\n",
    "    print(\"Listening...\")\n",
    "\n",
    "    # list to save all audio frames\n",
    "    frames = []\n",
    "\n",
    "    for i in range(int(RATE / CHUNK * RECORD_SECONDS)):\n",
    "        # read audio stream from microphone\n",
    "        data = stream.read(CHUNK)\n",
    "        # append audio data to frames list\n",
    "        frames.append(data)\n",
    "\n",
    "    #------------------ end of recording --------------------#   \n",
    "    print(\"Finished recording.\")\n",
    "      \n",
    "    stream.stop_stream()    # stop the stream object\n",
    "    stream.close()          # close the stream object\n",
    "    audio.terminate()       # terminate PortAudio\n",
    "\n",
    "    #------------------ saving audio ------------------------#\n",
    "\n",
    "    # create wave file object\n",
    "    waveFile = wave.open(WAVE_OUTPUT_FILENAME, 'wb')\n",
    "\n",
    "    # settings for wave file object\n",
    "    waveFile.setnchannels(CHANNELS)\n",
    "    waveFile.setsampwidth(audio.get_sample_size(FORMAT))\n",
    "    waveFile.setframerate(RATE)\n",
    "    waveFile.writeframes(b''.join(frames))\n",
    "\n",
    "    # closing the wave file object\n",
    "    waveFile.close()\n",
    "\n",
    "\n",
    "def read_audio(WAVE_FILENAME):\n",
    "    # function to read audio(wav) file\n",
    "    with open(WAVE_FILENAME, 'rb') as f:\n",
    "        audio = f.read()\n",
    "    return audio"
   ]
  },
  {
   "cell_type": "code",
   "execution_count": 5,
   "metadata": {},
   "outputs": [
    {
     "name": "stdout",
     "output_type": "stream",
     "text": [
      "Listening...\n",
      "Finished recording.\n",
      "\n",
      "You said: \n"
     ]
    }
   ],
   "source": [
    "import requests\n",
    "import json\n",
    "#from Recorder import record_audio, read_audio\n",
    "\n",
    "# Wit speech API endpoint\n",
    "API_ENDPOINT = 'https://api.wit.ai/speech'\n",
    "\n",
    "# Wit.ai api access token\n",
    "wit_access_token = 'IYOTYHJ3LR5PUR3VUXT6BNJYUHGKQEGG'\n",
    "\n",
    "\n",
    "def RecognizeSpeech(AUDIO_FILENAME, num_seconds =5):\n",
    "    \n",
    "    # record audio of specified length in specified audio file\n",
    "    record_audio(num_seconds, AUDIO_FILENAME)\n",
    "    \n",
    "    # reading audio\n",
    "    audio = read_audio(AUDIO_FILENAME)\n",
    "    \n",
    "    # defining headers for HTTP request\n",
    "    headers = {'authorization': 'Bearer ' + wit_access_token,\n",
    "               'Content-Type': 'audio/wav'}\n",
    "\n",
    "    # making an HTTP post request\n",
    "    resp = requests.post(API_ENDPOINT, headers = headers,\n",
    "                         data = audio)\n",
    "    \n",
    "    # converting response content to JSON format\n",
    "    data = json.loads(resp.content)\n",
    "    \n",
    "    # get text from data\n",
    "    text = data['_text']\n",
    "    \n",
    "    # return the text\n",
    "    return text\n",
    "\n",
    "\n",
    "if __name__ == \"__main__\":\n",
    "    text =  RecognizeSpeech('myspeech.wav', 4)\n",
    "    print(\"\\nYou said: {}\".format(text))\n",
    "    \n",
    "    "
   ]
  },
  {
   "cell_type": "code",
   "execution_count": 13,
   "metadata": {},
   "outputs": [
    {
     "name": "stdout",
     "output_type": "stream",
     "text": [
      "{'_text': \"i'm from china\", 'entities': {'location': [{'confidence': 0.93733, 'value': 'china', 'resolved': {'values': [{'name': \"People's Republic of China\", 'grain': 'country', 'type': 'resolved', 'coords': {'lat': 35, 'long': 105}, 'external': {'geonames': '1814991', 'wikidata': 'Q148', 'wikipedia': 'China'}}]}}]}, 'msg_id': '11uV4zgCNjMA5LeU1'}\n"
     ]
    }
   ],
   "source": [
    "from wit import Wit\n",
    "access_token= \"IYOTYHJ3LR5PUR3VUXT6BNJYUHGKQEGG\"\n",
    "client= Wit(access_token=access_token)\n",
    "message_text= text\n",
    "resp=client.message(message_text)\n",
    "print(resp)"
   ]
  },
  {
   "cell_type": "code",
   "execution_count": 14,
   "metadata": {},
   "outputs": [],
   "source": [
    "from wit import Wit \n",
    "\n",
    "wit_access_token = \"IYOTYHJ3LR5PUR3VUXT6BNJYUHGKQEGG\"\n",
    "client = Wit(access_token = wit_access_token)\n",
    "\n",
    "def wit_response(message_text):\n",
    "\tresp = client.message(message_text)\n",
    "\tentity = None\n",
    "\tvalue = None\n",
    "\n",
    "\ttry:\n",
    "\t\tentity = list(resp['entities'])[0]\n",
    "\t\tvalue = resp['entities'][entity][0]['value']\n",
    "\texcept:\n",
    "\t\tpass\n",
    "        \n",
    "\treturn (entity, value)"
   ]
  },
  {
   "cell_type": "code",
   "execution_count": 15,
   "metadata": {},
   "outputs": [
    {
     "name": "stdout",
     "output_type": "stream",
     "text": [
      "('location', 'china')\n"
     ]
    }
   ],
   "source": [
    "print(wit_response(text))"
   ]
  },
  {
   "cell_type": "code",
   "execution_count": 16,
   "metadata": {},
   "outputs": [],
   "source": [
    "entity, value = wit_response(message_text)\n",
    "if entity == 'newstype':\n",
    "    response = \"Ok, I will send you the {} news\".format(str(value))\n",
    "elif entity == 'location':\n",
    "    response = \"Ok, so you live in {0}. Here are top headlines from {0}\".format(str(value))\n",
    "\n",
    "if entity == None:\n",
    "    response = \"I have no idea what you are saying!\""
   ]
  },
  {
   "cell_type": "code",
   "execution_count": 17,
   "metadata": {},
   "outputs": [
    {
     "name": "stdout",
     "output_type": "stream",
     "text": [
      "Ok, so you live in china. Here are top headlines from china\n"
     ]
    }
   ],
   "source": [
    "print(response)"
   ]
  },
  {
   "cell_type": "code",
   "execution_count": 15,
   "metadata": {},
   "outputs": [
    {
     "data": {
      "text/plain": [
       "0"
      ]
     },
     "execution_count": 15,
     "metadata": {},
     "output_type": "execute_result"
    }
   ],
   "source": [
    "# Import the required module for text  \n",
    "# to speech conversion \n",
    "from gtts import gTTS \n",
    "  \n",
    "# This module is imported so that we can  \n",
    "# play the converted audio \n",
    "import os \n",
    "  \n",
    "# The text that you want to convert to audio \n",
    "mytext = response\n",
    "  \n",
    "# Language in which you want to convert \n",
    "language = 'en'\n",
    "  \n",
    "# Passing the text and language to the engine,  \n",
    "# here we have marked slow=False. Which tells  \n",
    "# the module that the converted audio should  \n",
    "# have a high speed \n",
    "myobj = gTTS(text=mytext, lang=language, slow=False) \n",
    "  \n",
    "# Saving the converted audio in a mp3 file named \n",
    "# welcome  \n",
    "myobj.save(\"welcome.mp3\") \n",
    "  \n",
    "# Playing the converted file \n",
    "os.system(\"welcome.mp3\") "
   ]
  }
 ],
 "metadata": {
  "kernelspec": {
   "display_name": "Python 3",
   "language": "python",
   "name": "python3"
  },
  "language_info": {
   "codemirror_mode": {
    "name": "ipython",
    "version": 3
   },
   "file_extension": ".py",
   "mimetype": "text/x-python",
   "name": "python",
   "nbconvert_exporter": "python",
   "pygments_lexer": "ipython3",
   "version": "3.7.1"
  }
 },
 "nbformat": 4,
 "nbformat_minor": 2
}
